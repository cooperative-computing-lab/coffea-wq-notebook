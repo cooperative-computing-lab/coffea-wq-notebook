{
 "cells": [
  {
   "cell_type": "markdown",
   "metadata": {},
   "source": [
    "# HEP analysis using Coffea + Work Queue Executor"
   ]
  },
  {
   "cell_type": "code",
   "execution_count": 1,
   "metadata": {},
   "outputs": [],
   "source": [
    "# automatically reload python modules when they are modified\n",
    "%load_ext autoreload\n",
    "%autoreload 2\n",
    "\n"
   ]
  },
  {
   "cell_type": "markdown",
   "metadata": {},
   "source": [
    "[Work Queue](https://cctools.readthedocs.io/en/stable/work_queue/) is a system and library for creating and managing scalable manager-worker style programs that scale up to thousands of machines on clusters, clouds, and grids. With Work Queue, Coffea sends the work to be done to a set of Work Queue workers. These workers may be running locally, remotely in a cluster, or in some container environment.\n",
    "\n",
    "<img src=\"images/coffea-wq-general.png\" title=\"Coffea Work Queue basic architecture\" style=\"display:block; margin:auto;\"/>\n",
    "\n",
    "When used together with Coffea, it can measure the resources, such as cores and memory, that chunks of events need and adapt the allocations automatically to maximize throughput. In this notebook we will demonstrate how the executor can dynamically modify the size of chunks of events to process if the memory available is not enough, and adapt it to desired resources usage. But as a starter, let's first introduce its basic use for small local runs.\n",
    "\n",
    "and how it can automatically\n",
    "export the needed python environments when working in a cluster with no\n",
    "previous setup.\n"
   ]
  },
  {
   "cell_type": "markdown",
   "metadata": {},
   "source": [
    "## Load coffea"
   ]
  },
  {
   "cell_type": "code",
   "execution_count": 2,
   "metadata": {
    "tags": []
   },
   "outputs": [],
   "source": [
    "# all coffea applications are run by coffea.processor.Runner\n",
    "from coffea.processor import Runner\n",
    "from coffea.processor import WorkQueueExecutor\n",
    "\n",
    "# workers will be created using this Factory\n",
    "from work_queue import Factory"
   ]
  },
  {
   "cell_type": "code",
   "execution_count": 3,
   "metadata": {
    "tags": []
   },
   "outputs": [],
   "source": [
    "# test processor, modified from coffea source to make memory usage more interesting\n",
    "#from MemNanoTestProcessor import MemNanoTestProcessor as MyProcessor\n",
    "\n",
    "# or you can use the test processor included in coffea:\n",
    "\n",
    "# Use a sample processor from coffea\n",
    "# and silence coffea.hist deprecation, for now\n",
    "import warnings\n",
    "warnings.simplefilter(action='ignore', category=FutureWarning)\n",
    "warnings.simplefilter(action='ignore', category=RuntimeWarning)\n",
    "from coffea.processor.test_items import NanoTestProcessor as MyProcessor"
   ]
  },
  {
   "cell_type": "code",
   "execution_count": 4,
   "metadata": {},
   "outputs": [],
   "source": [
    "# Define example input file. \n",
    "\n",
    "filelist = {\n",
    "    \"ttHJet\": [\"http://www.crc.nd.edu/~kmohrman/files/root_files/for_ci/ttHJet_UL17_R1B14_NAOD-00000_10194.root\"]\n",
    "}"
   ]
  },
  {
   "cell_type": "markdown",
   "metadata": {},
   "source": [
    "## Basic configure for the WorkQueue Executor"
   ]
  },
  {
   "cell_type": "code",
   "execution_count": 5,
   "metadata": {
    "collapsed": false,
    "jupyter": {
     "outputs_hidden": false
    }
   },
   "outputs": [],
   "source": [
    "# For the most basic Work Queue configuration, we need to set the port that\n",
    "# the workers will use to communicate with the Coffea application.\n",
    "# The default for Work Queue is 9123, so we will use that here.\n",
    "# We can set Work Queue to find a free port for use, and we will explore\n",
    "# that later in the notebook.\n",
    "port = 9123\n",
    "executor = WorkQueueExecutor(port=port)\n",
    "runner = Runner(executor)\n",
    "\n",
    "#executor = WorkQueueExecutor(port=port, status_display_interval=5, extra_input_files=[\"MemNanoTestProcessor.py\"])\n"
   ]
  },
  {
   "cell_type": "markdown",
   "metadata": {},
   "source": [
    "## Running one function at a time\n",
    "\n",
    "In Coffea, the iterative executor executes locally one function at a time. We can emulate this by directing the factory that creates workers to only create one worker. The factory automatically creates workers as it sees work available up to `max_workers`."
   ]
  },
  {
   "cell_type": "code",
   "execution_count": 6,
   "metadata": {},
   "outputs": [],
   "source": [
    "# Create a factory that looks for a running Coffea in the local machine at the\n",
    "# port we defined above.\n",
    "workers = Factory(\"local\", manager_host_port = f\"localhost:{port}\")\n",
    "\n",
    "# Tell the factory that it should not create more than one worker...\n",
    "workers.max_workers = 1\n",
    "\n",
    "# ...and that the worker should not use more than 10GB of memory. If we do not set\n",
    "# resource limits, the worker automatically configures to use all available\n",
    "# in the machine, so the worker will use, for example, all the cores and memory in the\n",
    "# local machine.\n",
    "workers.disk = 10000  # Each worker won't use more than 10GB"
   ]
  },
  {
   "cell_type": "code",
   "execution_count": 7,
   "metadata": {},
   "outputs": [
    {
     "data": {
      "application/vnd.jupyter.widget-view+json": {
       "model_id": "f09813b2e3994ec3889c460a71ec7a4e",
       "version_major": 2,
       "version_minor": 0
      },
      "text/plain": [
       "GridspecLayout(children=(VBox(children=(HTML(value=''), HTML(value='')), layout=Layout(grid_area='widget001'))…"
      ]
     },
     "metadata": {},
     "output_type": "display_data"
    },
    {
     "name": "stdout",
     "output_type": "stream",
     "text": [
      "Listening for work queue workers on port 9123.\n"
     ]
    },
    {
     "data": {
      "application/vnd.jupyter.widget-view+json": {
       "model_id": "09c62cab42f140638772220765aec3d9",
       "version_major": 2,
       "version_minor": 0
      },
      "text/plain": [
       "Preprocessing   0%|          | 0/1 [00:00<?, ?file/s]                               "
      ]
     },
     "metadata": {},
     "output_type": "display_data"
    },
    {
     "data": {
      "application/vnd.jupyter.widget-view+json": {
       "model_id": "7894292c87fd49448eee2801f595c080",
       "version_major": 2,
       "version_minor": 0
      },
      "text/plain": [
       "Submitted       0%|          | 0/232632 [00:00<?, ?event/s]                         "
      ]
     },
     "metadata": {},
     "output_type": "display_data"
    },
    {
     "data": {
      "application/vnd.jupyter.widget-view+json": {
       "model_id": "f89d061f96ec408a89c9a0e241342784",
       "version_major": 2,
       "version_minor": 0
      },
      "text/plain": [
       "Processing      0%|          | 0/232632 [00:00<?, ?event/s]                         "
      ]
     },
     "metadata": {},
     "output_type": "display_data"
    },
    {
     "data": {
      "application/vnd.jupyter.widget-view+json": {
       "model_id": "e2aab892a7564fb99518a4f5264650c8",
       "version_major": 2,
       "version_minor": 0
      },
      "text/plain": [
       "Accumulated     0%|          | 0/1 [00:00<?, ?task/s]                               "
      ]
     },
     "metadata": {},
     "output_type": "display_data"
    }
   ],
   "source": [
    "# Finally, we execute the Coffea application. By using the factory inside a \n",
    "# \"with\" statement, the factory shutdowns the workers when the workflow finishes.\n",
    "\n",
    "with workers:\n",
    "    hists = runner(filelist, \"Events\", MyProcessor())"
   ]
  },
  {
   "cell_type": "code",
   "execution_count": 8,
   "metadata": {},
   "outputs": [
    {
     "data": {
      "image/png": "[encoded data removed]",
      "text/plain": [
       "<Figure size 432x288 with 1 Axes>"
      ]
     },
     "metadata": {
      "needs_background": "light"
     },
     "output_type": "display_data"
    }
   ],
   "source": [
    "# we can plot the results as usual\n",
    "%matplotlib inline\n",
    "import coffea.hist\n",
    "from IPython.utils import io\n",
    "coffea.hist.plot1d(hists[\"mass\"]);"
   ]
  },
  {
   "cell_type": "markdown",
   "metadata": {},
   "source": [
    "## Manually declaring resources\n",
    "\n",
    "As we saw above, each task (that is, each function) used at most 1 core, and only a small portion of the memory and disk available. Thus, if our worker has more than 1 core, it could run more than one task concurrently. This can be achieved by explicitely specifying how many resources a task should use. Note how Work Queue automatically allocates to the tasks a corresponding proportion for the resources that we did not specify, (i.e. memory and disk):"
   ]
  },
  {
   "cell_type": "code",
   "execution_count": 9,
   "metadata": {},
   "outputs": [
    {
     "data": {
      "application/vnd.jupyter.widget-view+json": {
       "model_id": "a56e0fe21f97444c99a40175cbbc287d",
       "version_major": 2,
       "version_minor": 0
      },
      "text/plain": [
       "GridspecLayout(children=(VBox(children=(HTML(value=''), HTML(value='')), layout=Layout(grid_area='widget001'))…"
      ]
     },
     "metadata": {},
     "output_type": "display_data"
    },
    {
     "name": "stdout",
     "output_type": "stream",
     "text": [
      "Listening for work queue workers on port 9123.\n"
     ]
    },
    {
     "data": {
      "application/vnd.jupyter.widget-view+json": {
       "model_id": "c6b0f8912aa3417a9f96e4b93df3ac40",
       "version_major": 2,
       "version_minor": 0
      },
      "text/plain": [
       "Submitted       0%|          | 0/232632 [00:00<?, ?event/s]                         "
      ]
     },
     "metadata": {},
     "output_type": "display_data"
    },
    {
     "data": {
      "application/vnd.jupyter.widget-view+json": {
       "model_id": "28ef084dc4a94f7e851858dfb4121c06",
       "version_major": 2,
       "version_minor": 0
      },
      "text/plain": [
       "Processing      0%|          | 0/232632 [00:00<?, ?event/s]                         "
      ]
     },
     "metadata": {},
     "output_type": "display_data"
    },
    {
     "data": {
      "application/vnd.jupyter.widget-view+json": {
       "model_id": "252b0290ffe24e6f96a77db71268f947",
       "version_major": 2,
       "version_minor": 0
      },
      "text/plain": [
       "Accumulated     0%|          | 0/1 [00:00<?, ?task/s]                               "
      ]
     },
     "metadata": {},
     "output_type": "display_data"
    }
   ],
   "source": [
    "executor = WorkQueueExecutor(port=port, cores=1)\n",
    "runner = Runner(executor)\n",
    "with workers:\n",
    "    hists = runner(filelist, \"Events\", MyProcessor())"
   ]
  },
  {
   "cell_type": "markdown",
   "metadata": {},
   "source": [
    "## Automatic resource management\n",
    "\n",
    "The previous example worked because we knew that each task did not use more than one core. Since we do not always know how many resouces a function will need, the Work Queue executor automatically adjust its allocations according to previous values measured. Preprocessing, processing, and accumulating tasks are handled separately\n",
    "\n",
    "In fact, this is the default mode for the executor, only that we did not observe this in the previous examples because given the default coffea chunkise (100k events), there were not enough tasks for Work Queue to figure out an allocation. In the absence of data, Work Queue allocates a whole worker to a task. Thus, for the automatic resource management example, we set the chunksize to a small value to create tons of tasks. Later in this notebook we will show how Work Queue can also adap the chunksize to better use the resource allocations. \n",
    "\n",
    "In the output below, note how the `current allocation` of processing tasks eventually adapts to 1 core, even though there is no mention of cores when declaring the executor.\n",
    "\n",
    "Not that the automatic resource management depends on measuring the resources used by coffea tasks, and this only works on Linux."
   ]
  },
  {
   "cell_type": "code",
   "execution_count": 10,
   "metadata": {},
   "outputs": [
    {
     "data": {
      "application/vnd.jupyter.widget-view+json": {
       "model_id": "a12befd62a284436b958ad8f0c6b5e97",
       "version_major": 2,
       "version_minor": 0
      },
      "text/plain": [
       "GridspecLayout(children=(VBox(children=(HTML(value=''), HTML(value='')), layout=Layout(grid_area='widget001'))…"
      ]
     },
     "metadata": {},
     "output_type": "display_data"
    },
    {
     "name": "stdout",
     "output_type": "stream",
     "text": [
      "Listening for work queue workers on port 9123.\n"
     ]
    },
    {
     "data": {
      "application/vnd.jupyter.widget-view+json": {
       "model_id": "5c6fbb9f82744434af9ffa5dd992f03d",
       "version_major": 2,
       "version_minor": 0
      },
      "text/plain": [
       "Submitted       0%|          | 0/232632 [00:00<?, ?event/s]                         "
      ]
     },
     "metadata": {},
     "output_type": "display_data"
    },
    {
     "data": {
      "application/vnd.jupyter.widget-view+json": {
       "model_id": "a5498d3e7bdd4cdd9e8c723cc0c14816",
       "version_major": 2,
       "version_minor": 0
      },
      "text/plain": [
       "Processing      0%|          | 0/232632 [00:00<?, ?event/s]                         "
      ]
     },
     "metadata": {},
     "output_type": "display_data"
    },
    {
     "data": {
      "application/vnd.jupyter.widget-view+json": {
       "model_id": "5889c54083ea4b348d897212ae62a6dd",
       "version_major": 2,
       "version_minor": 0
      },
      "text/plain": [
       "Accumulated     0%|          | 0/1 [00:00<?, ?task/s]                               "
      ]
     },
     "metadata": {},
     "output_type": "display_data"
    }
   ],
   "source": [
    "executor = WorkQueueExecutor(port=port)\n",
    "runner = Runner(executor, chunksize=20000)\n",
    "with workers:\n",
    "    hists = runner(filelist, \"Events\", MyProcessor())\n"
   ]
  },
  {
   "cell_type": "markdown",
   "metadata": {
    "tags": []
   },
   "source": [
    "### Other resource management modes\n",
    "\n",
    "#### Mixing explicitely declared resources and automatic modes\n",
    "\n",
    "If resources are explicitely declared, such as `WorkQueueExecutor(..., cores=1, memory=4096, disk=8192)`, then Work Queue uses the values given as the maximum allocation a task can use. Otherwise, the maximum allocation is to use a whole worker.\n",
    "\n",
    "#### Maximum throughput mode\n",
    "\n",
    "The default resource management mode is to make new resource allocations using the maximum resources seen. This mode works nicely for most Coffea situations where processing functions use the same amount of cores. However, concurrenty may be greatly reduced if there are outliers than use more resources than the rest of the tasks. For such situations, the executor can be directed to use its maximum throughput setting, where Work Queue optimizes the number of tasks done per second, at the expense of retrying outliers using whole workers. For processing tasks that use about the same amount of resources, such as it is often seen in Coffea, both the default and the maximum throughput mode produce the same allocations.\n",
    "\n",
    "```python\n",
    "executor = WorkQueueExecutor(port=port, resources_mode=\"max-throughput\")\n",
    "```\n",
    "\n",
    "Note that the maximum throughput mode, if active, only applies to processing tasks. Accumulating tasks always use the maximum seen allocations because they tend to grow in their resource usage as the run progresses.\n",
    "\n",
    "#### Fixed mode\n",
    "\n",
    "With the fixed mode, the executor does not adapt any of the allocations. If no resource is declared, then tasks use whole workers. Otherwise, undeclared resources are divided proportionally among the resources that were declared.\n",
    "\n",
    "```python\n",
    "executor = WorkQueueExecutor(port=port, resources_mode=\"fixed\", cores=1, memory=4096, disk=8192)\n",
    "```\n",
    "\n",
    "If you want Work Queue to simply manage the resources, but not to enforce them, the resource monitor can be turned off:\n",
    "\n",
    "```python\n",
    "executor = WorkQueueExecutor(port=port, resources_mode=\"fixed\", resource_monitor=\"off\", cores=1, memory=4096, disk=8192)\n",
    "```\n",
    "\n",
    "\n"
   ]
  },
  {
   "cell_type": "markdown",
   "metadata": {},
   "source": [
    "## When task don't fit workers\n",
    "\n",
    "#### Explicitely declared resources\n",
    "\n",
    "If task resources are explicitely declared, but no connected worker is large enough to fit the task, then Work Queue will wait until a larger worker connects.\n",
    "\n",
    "(In a notebook is hard to feed new workers, as execution blocks until a cell is completed. At the end of the notebook we present how to launch workers outside a notebook.)\n"
   ]
  },
  {
   "cell_type": "markdown",
   "metadata": {},
   "source": [
    "#### Preprocessing and accumulating tasks that don't fit workers\n",
    "\n",
    "If no explicit resources are declared, and the observed resources of preprocessing and accumulating tasks are larger than the currently connected workers, then Work Queu waits for larger workers to connect. Otherwise, if explicit resources were declared, the workflow fails.\n",
    "\n",
    "Processing tasks are handled differently, as we present below dynamic chunksize strategies."
   ]
  },
  {
   "cell_type": "code",
   "execution_count": 11,
   "metadata": {},
   "outputs": [
    {
     "data": {
      "application/vnd.jupyter.widget-view+json": {
       "model_id": "7222feb3c3eb4eab8e2d98ce0b86aab0",
       "version_major": 2,
       "version_minor": 0
      },
      "text/plain": [
       "GridspecLayout(children=(VBox(children=(HTML(value=''), HTML(value='')), layout=Layout(grid_area='widget001'))…"
      ]
     },
     "metadata": {},
     "output_type": "display_data"
    },
    {
     "name": "stdout",
     "output_type": "stream",
     "text": [
      "Listening for work queue workers on port 9123.\n"
     ]
    },
    {
     "data": {
      "application/vnd.jupyter.widget-view+json": {
       "model_id": "03cb9652c4e34213a92287fd38edb398",
       "version_major": 2,
       "version_minor": 0
      },
      "text/plain": [
       "Submitted       0%|          | 0/232632 [00:00<?, ?event/s]                         "
      ]
     },
     "metadata": {},
     "output_type": "display_data"
    },
    {
     "data": {
      "application/vnd.jupyter.widget-view+json": {
       "model_id": "088ba1421e9249e0adb1ce8fcdaddd44",
       "version_major": 2,
       "version_minor": 0
      },
      "text/plain": [
       "Processing      0%|          | 0/232632 [00:00<?, ?event/s]                         "
      ]
     },
     "metadata": {},
     "output_type": "display_data"
    },
    {
     "data": {
      "application/vnd.jupyter.widget-view+json": {
       "model_id": "15e2ae391d79451183fa015e0ed81f76",
       "version_major": 2,
       "version_minor": 0
      },
      "text/plain": [
       "Accumulated     0%|          | 0/1 [00:00<?, ?task/s]                               "
      ]
     },
     "metadata": {},
     "output_type": "display_data"
    }
   ],
   "source": [
    "workers = Factory(\"local\", manager_host_port = f\"localhost:{port}\")\n",
    "workers.max_workers = 1\n",
    "workers.memory = 4000\n",
    "workers.disk = 10000\n",
    "\n",
    "executor = WorkQueueExecutor(port=port, cores=1, memory=8000)\n",
    "runner = Runner(executor)\n",
    "with workers:\n",
    "    hists = runner(filelist, \"Events\", MyProcessor())"
   ]
  },
  {
   "cell_type": "markdown",
   "metadata": {},
   "source": [
    "## Adapting the number of events per processing task (i.e., the chunksize)\n",
    "\n",
    "### Automatic splits\n",
    "\n",
    "When a processing task exhausts its explicitely allocated resources, the set of events is divided and new processing tasks are created. This process is repeated as necessary, until the maximum number of retries is reach (default is 5), or when the chunksize can't be divided anymore.\n",
    "\n",
    "In general, more than a handful of splits is indicative that the desired chunksize is too big, and it should be reduced for further runs."
   ]
  },
  {
   "cell_type": "code",
   "execution_count": 12,
   "metadata": {},
   "outputs": [],
   "source": [
    "# To test adapting the chunksize, we use a modified NanoTestProcessor.py,\n",
    "# that artificially increases the memory used as a function of the number\n",
    "# of events in the task.\n",
    "\n",
    "from MemNanoTestProcessor import MemNanoTestProcessor as MyProcessor"
   ]
  },
  {
   "cell_type": "code",
   "execution_count": 13,
   "metadata": {},
   "outputs": [],
   "source": [
    "# Also, since this processor is not part of coffea, we need to tell\n",
    "# Work Queue to make it available at the workers. This is convenient,\n",
    "# as we can quickly modify the processor without the need to re-install\n",
    "# or re-build the coffea environments at the remote sites.\n",
    "\n",
    "executor = WorkQueueExecutor(\n",
    "    port=port,\n",
    "    memory=1000,\n",
    "    extra_input_files=[\"MemNanoTestProcessor.py\"])\n",
    "\n",
    "# set a large chunksize, to ensure that task fail\n",
    "runner = Runner(executor, chunksize=256000) "
   ]
  },
  {
   "cell_type": "code",
   "execution_count": 16,
   "metadata": {},
   "outputs": [
    {
     "data": {
      "application/vnd.jupyter.widget-view+json": {
       "model_id": "30d039982a5c4d259e04f34c0027deea",
       "version_major": 2,
       "version_minor": 0
      },
      "text/plain": [
       "GridspecLayout(children=(VBox(children=(HTML(value=''), HTML(value='')), layout=Layout(grid_area='widget001'))…"
      ]
     },
     "metadata": {},
     "output_type": "display_data"
    },
    {
     "name": "stdout",
     "output_type": "stream",
     "text": [
      "Listening for work queue workers on port 9123.\n"
     ]
    },
    {
     "data": {
      "application/vnd.jupyter.widget-view+json": {
       "model_id": "5ef104622abd433a835fb8f503421e41",
       "version_major": 2,
       "version_minor": 0
      },
      "text/plain": [
       "Submitted       0%|          | 0/232632 [00:00<?, ?event/s]                         "
      ]
     },
     "metadata": {},
     "output_type": "display_data"
    },
    {
     "data": {
      "application/vnd.jupyter.widget-view+json": {
       "model_id": "979286a1a9944da9b003dee05bf62c8a",
       "version_major": 2,
       "version_minor": 0
      },
      "text/plain": [
       "Processing      0%|          | 0/232632 [00:00<?, ?event/s]                         "
      ]
     },
     "metadata": {},
     "output_type": "display_data"
    },
    {
     "data": {
      "application/vnd.jupyter.widget-view+json": {
       "model_id": "6d296ed4706442ecbe4586509cce14f6",
       "version_major": 2,
       "version_minor": 0
      },
      "text/plain": [
       "Accumulated     0%|          | 0/1 [00:00<?, ?task/s]                               "
      ]
     },
     "metadata": {},
     "output_type": "display_data"
    },
    {
     "name": "stdout",
     "output_type": "stream",
     "text": [
      "processing task id 1 item p_31 with 232632 events completed on cclws16.cse.nd.edu. return code 143\n",
      "task id 1 item p_31 failed: RESOURCE_EXHAUSTION\n",
      "    ('ttHJet', 'http://www.crc.nd.edu/~kmohrman/files/root_files/for_ci/ttHJet_UL17_R1B14_NAOD-00000_10194.root', 'Events', 0, 232632) p_31 without result.\n"
     ]
    },
    {
     "name": "stderr",
     "output_type": "stream",
     "text": [
      "IOStream.flush timed out\n",
      "IOStream.flush timed out\n",
      "IOStream.flush timed out\n"
     ]
    },
    {
     "name": "stdout",
     "output_type": "stream",
     "text": [
      "processing task id 2 item p_32 with 116316 events completed on cclws16.cse.nd.edu. return code 143\n",
      "task id 2 item p_32 failed: RESOURCE_EXHAUSTION\n",
      "    ('ttHJet', 'http://www.crc.nd.edu/~kmohrman/files/root_files/for_ci/ttHJet_UL17_R1B14_NAOD-00000_10194.root', 'Events', 0, 116316) p_32 without result.\n",
      "processing task id 3 item p_33 with 116316 events completed on cclws16.cse.nd.edu. return code 143\n",
      "task id 3 item p_33 failed: RESOURCE_EXHAUSTION\n",
      "    ('ttHJet', 'http://www.crc.nd.edu/~kmohrman/files/root_files/for_ci/ttHJet_UL17_R1B14_NAOD-00000_10194.root', 'Events', 116316, 232632) p_33 without result.\n"
     ]
    }
   ],
   "source": [
    "workers = Factory(\"local\", manager_host_port = f\"localhost:{port}\")\n",
    "workers.max_workers = 1\n",
    "workers.memory = 2000\n",
    "workers.disk = 10000\n",
    "\n",
    "with workers:\n",
    "    hists = runner(filelist, \"Events\", MyProcessor())"
   ]
  },
  {
   "cell_type": "markdown",
   "metadata": {},
   "source": [
    "## Dynamic chunksize computation\n",
    "\n",
    "The Work Queue executor can also modify the chunksize to a desired memory target usage. In the following example we start with a small chunksize, which grows to fill the desired allocations."
   ]
  },
  {
   "cell_type": "code",
   "execution_count": null,
   "metadata": {},
   "outputs": [
    {
     "data": {
      "application/vnd.jupyter.widget-view+json": {
       "model_id": "6c52beb0c8e3468fadae01c74c8b3ecf",
       "version_major": 2,
       "version_minor": 0
      },
      "text/plain": [
       "GridspecLayout(children=(VBox(children=(HTML(value=''), HTML(value='')), layout=Layout(grid_area='widget001'))…"
      ]
     },
     "metadata": {},
     "output_type": "display_data"
    },
    {
     "name": "stdout",
     "output_type": "stream",
     "text": [
      "Listening for work queue workers on port 9123.\n"
     ]
    },
    {
     "data": {
      "application/vnd.jupyter.widget-view+json": {
       "model_id": "ffa589546c5242649b49e5aa6131b23c",
       "version_major": 2,
       "version_minor": 0
      },
      "text/plain": [
       "Submitted       0%|          | 0/232632 [00:00<?, ?event/s]                         "
      ]
     },
     "metadata": {},
     "output_type": "display_data"
    },
    {
     "data": {
      "application/vnd.jupyter.widget-view+json": {
       "model_id": "4126cb89e3204c3aa1235482931a18b4",
       "version_major": 2,
       "version_minor": 0
      },
      "text/plain": [
       "Processing      0%|          | 0/232632 [00:00<?, ?event/s]                         "
      ]
     },
     "metadata": {},
     "output_type": "display_data"
    },
    {
     "data": {
      "application/vnd.jupyter.widget-view+json": {
       "model_id": "96d29efb9ba14a0f96b69fa0e0a15838",
       "version_major": 2,
       "version_minor": 0
      },
      "text/plain": [
       "Accumulated     0%|          | 0/10 [00:00<?, ?task/s]                              "
      ]
     },
     "metadata": {},
     "output_type": "display_data"
    }
   ],
   "source": [
    "target_memory = 1000  # 1GB\n",
    "\n",
    "executor = WorkQueueExecutor(\n",
    "    port=port,\n",
    "    extra_input_files=[\"MemNanoTestProcessor.py\"],\n",
    "    memory=target_memory)                        # do not use more than the target memory\n",
    "\n",
    "# set a small chunksize, to create tons of tasks from the single example file.\n",
    "runner = Runner(\n",
    "    executor, \n",
    "    chunksize=1000,\n",
    "    dynamic_chunksize={\"memory\": target_memory})\n",
    "\n",
    "workers = Factory(\"local\", manager_host_port = f\"localhost:{port}\")\n",
    "workers.max_workers = 1\n",
    "workers.memory = 2000\n",
    "workers.disk = 10000\n",
    "\n",
    "with workers:\n",
    "    hists = runner(filelist, \"Events\", MyProcessor())"
   ]
  },
  {
   "cell_type": "markdown",
   "metadata": {},
   "source": [
    "## Using remote workers\n",
    "\n",
    "### Catalog server\n",
    "\n",
    "### Create an environment\n",
    "\n",
    "### The factory outside a notebook"
   ]
  }
 ],
 "metadata": {
  "kernelspec": {
   "display_name": "Python 3 (ipykernel)",
   "language": "python",
   "name": "python3"
  },
  "language_info": {
   "codemirror_mode": {
    "name": "ipython",
    "version": 3
   },
   "file_extension": ".py",
   "mimetype": "text/x-python",
   "name": "python",
   "nbconvert_exporter": "python",
   "pygments_lexer": "ipython3",
   "version": "3.9.13"
  }
 },
 "nbformat": 4,
 "nbformat_minor": 4
}
